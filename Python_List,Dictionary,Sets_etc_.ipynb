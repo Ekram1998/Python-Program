{
  "nbformat": 4,
  "nbformat_minor": 0,
  "metadata": {
    "colab": {
      "name": "Python List,Dictionary,Sets etc .ipynb",
      "provenance": []
    },
    "kernelspec": {
      "name": "python3",
      "display_name": "Python 3"
    },
    "language_info": {
      "name": "python"
    }
  },
  "cells": [
    {
      "cell_type": "markdown",
      "source": [
        "# Python Data Structures and Boolean \n",
        "- Boolean\n",
        "- Boolean and Logical Operation\n",
        "- Lists\n",
        "- Comparison Operator\n",
        "- Dictionaries\n",
        "- Tuples\n",
        "- Sets\n",
        "\n",
        "# Boolean Variable\n",
        "## Boolean values and the two constant objects False and True.\n",
        "## They are used to represent truth values (other values can also be considered false to true)\n",
        "## In numeric contexts (for example,when used as the argument to an arithmetic operator),they behave like the integers 0 and 1, respectively\n",
        "## The  built-in function bool() can be used  to cast any value to a Boolean, if the value can be interpreted as a truth value \n",
        "## They are written as False and True, respectively."
      ],
      "metadata": {
        "id": "F5sZjxqS7H1r"
      }
    },
    {
      "cell_type": "code",
      "source": [
        "False"
      ],
      "metadata": {
        "colab": {
          "base_uri": "https://localhost:8080/"
        },
        "id": "-IWSJoCH8F39",
        "outputId": "e4d3a1c1-37bd-4d52-801f-c239cbe7a50e"
      },
      "execution_count": 79,
      "outputs": [
        {
          "output_type": "execute_result",
          "data": {
            "text/plain": [
              "False"
            ]
          },
          "metadata": {},
          "execution_count": 79
        }
      ]
    },
    {
      "cell_type": "code",
      "source": [
        "print(True,False)"
      ],
      "metadata": {
        "colab": {
          "base_uri": "https://localhost:8080/"
        },
        "id": "DMAU0n4P__CF",
        "outputId": "b97f6bea-8cf6-431e-a284-ff032a3d2092"
      },
      "execution_count": 80,
      "outputs": [
        {
          "output_type": "stream",
          "name": "stdout",
          "text": [
            "True False\n"
          ]
        }
      ]
    },
    {
      "cell_type": "code",
      "source": [
        "type(True)"
      ],
      "metadata": {
        "colab": {
          "base_uri": "https://localhost:8080/"
        },
        "id": "e1JoMN-6AKxI",
        "outputId": "5c7e62c1-ff64-4f72-d0a9-5725c6e92f5a"
      },
      "execution_count": 81,
      "outputs": [
        {
          "output_type": "execute_result",
          "data": {
            "text/plain": [
              "bool"
            ]
          },
          "metadata": {},
          "execution_count": 81
        }
      ]
    },
    {
      "cell_type": "code",
      "source": [
        "type(False)"
      ],
      "metadata": {
        "colab": {
          "base_uri": "https://localhost:8080/"
        },
        "id": "uGTdJMfeAMWp",
        "outputId": "3cb446c2-735d-4246-e813-dc9248ebb205"
      },
      "execution_count": 82,
      "outputs": [
        {
          "output_type": "execute_result",
          "data": {
            "text/plain": [
              "bool"
            ]
          },
          "metadata": {},
          "execution_count": 82
        }
      ]
    },
    {
      "cell_type": "code",
      "source": [
        "my_str='Ekram123'"
      ],
      "metadata": {
        "id": "WdRKGR5fAOCR"
      },
      "execution_count": 83,
      "outputs": []
    },
    {
      "cell_type": "code",
      "source": [
        "my_str.istitle()"
      ],
      "metadata": {
        "colab": {
          "base_uri": "https://localhost:8080/"
        },
        "id": "smZR3pjtATW7",
        "outputId": "32019643-c4d3-437a-9eda-9b7b167b0ef7"
      },
      "execution_count": 84,
      "outputs": [
        {
          "output_type": "execute_result",
          "data": {
            "text/plain": [
              "True"
            ]
          },
          "metadata": {},
          "execution_count": 84
        }
      ]
    },
    {
      "cell_type": "code",
      "source": [
        "print(my_str.isalnum()) #check if all char are numbers\n",
        "print(my_str.isalpha()) #check if all char in the string are alphabetic\n",
        "print(my_str.isdigit()) #test if string contains digits\n",
        "print(my_str.istitle()) #test if string contains title words\n",
        "print(my_str.isupper()) #test if string contains upper case\n",
        "print(my_str.islower()) #test if string contains lower case\n",
        "print(my_str.isspace()) #test if string contains spaces\n",
        "print(my_str.endswith('E')) #test if string endswith a m\n",
        "print(my_str.startswith('E')) #test if string startswith E "
      ],
      "metadata": {
        "colab": {
          "base_uri": "https://localhost:8080/"
        },
        "id": "1phHU9RlAZRg",
        "outputId": "37fc6752-358e-45d2-bcb3-e093dc5a6374"
      },
      "execution_count": 85,
      "outputs": [
        {
          "output_type": "stream",
          "name": "stdout",
          "text": [
            "True\n",
            "False\n",
            "False\n",
            "True\n",
            "False\n",
            "False\n",
            "False\n",
            "False\n",
            "True\n"
          ]
        }
      ]
    },
    {
      "cell_type": "markdown",
      "source": [
        "**Boolean and Logical Operation**"
      ],
      "metadata": {
        "id": "YoypVp5DArHU"
      }
    },
    {
      "cell_type": "code",
      "source": [
        "True and True"
      ],
      "metadata": {
        "colab": {
          "base_uri": "https://localhost:8080/"
        },
        "id": "b2O3qLqoAiXF",
        "outputId": "dd91004b-866d-4f38-fe04-6b25eb2758f7"
      },
      "execution_count": 86,
      "outputs": [
        {
          "output_type": "execute_result",
          "data": {
            "text/plain": [
              "True"
            ]
          },
          "metadata": {},
          "execution_count": 86
        }
      ]
    },
    {
      "cell_type": "code",
      "source": [
        "True and False "
      ],
      "metadata": {
        "colab": {
          "base_uri": "https://localhost:8080/"
        },
        "id": "qgsf4fxSA4km",
        "outputId": "857789af-236c-40df-f941-1e554cdd6e74"
      },
      "execution_count": 87,
      "outputs": [
        {
          "output_type": "execute_result",
          "data": {
            "text/plain": [
              "False"
            ]
          },
          "metadata": {},
          "execution_count": 87
        }
      ]
    },
    {
      "cell_type": "code",
      "source": [
        "True or False"
      ],
      "metadata": {
        "colab": {
          "base_uri": "https://localhost:8080/"
        },
        "id": "ubfufZhwA6X2",
        "outputId": "0e06255b-48fc-4b76-c430-8746d081f96a"
      },
      "execution_count": 88,
      "outputs": [
        {
          "output_type": "execute_result",
          "data": {
            "text/plain": [
              "True"
            ]
          },
          "metadata": {},
          "execution_count": 88
        }
      ]
    },
    {
      "cell_type": "code",
      "source": [
        "True or True"
      ],
      "metadata": {
        "colab": {
          "base_uri": "https://localhost:8080/"
        },
        "id": "7AhpijFSA-_X",
        "outputId": "ead38b93-9a4c-41ff-d6e9-837291587e3e"
      },
      "execution_count": 89,
      "outputs": [
        {
          "output_type": "execute_result",
          "data": {
            "text/plain": [
              "True"
            ]
          },
          "metadata": {},
          "execution_count": 89
        }
      ]
    },
    {
      "cell_type": "code",
      "source": [
        "str_example = 'Hello World'\n",
        "my_str = \"Ekram\""
      ],
      "metadata": {
        "id": "9ZHTVLFUBI_k"
      },
      "execution_count": 90,
      "outputs": []
    },
    {
      "cell_type": "code",
      "source": [
        "my_str.isalpha() or str_example.isnum()"
      ],
      "metadata": {
        "colab": {
          "base_uri": "https://localhost:8080/"
        },
        "id": "wkQA-f1mBS1f",
        "outputId": "614b1582-7fbc-4b7c-fccd-75224f3448a3"
      },
      "execution_count": 91,
      "outputs": [
        {
          "output_type": "execute_result",
          "data": {
            "text/plain": [
              "True"
            ]
          },
          "metadata": {},
          "execution_count": 91
        }
      ]
    },
    {
      "cell_type": "markdown",
      "source": [
        "**Lists**\n",
        "A list is a data structue in python that is a mutable, or changeable, ordered sequence of elements. Each element or value that is insied of a list is called an item. Just as strings are defined as characters between quotes,list are defined by having values between square brackts []"
      ],
      "metadata": {
        "id": "wewcMxYnBgwf"
      }
    },
    {
      "cell_type": "code",
      "source": [
        "type([])"
      ],
      "metadata": {
        "colab": {
          "base_uri": "https://localhost:8080/"
        },
        "id": "Dvs2LHZnBW6C",
        "outputId": "297e7827-f259-4a24-d89f-dafd3bdfb877"
      },
      "execution_count": 92,
      "outputs": [
        {
          "output_type": "execute_result",
          "data": {
            "text/plain": [
              "list"
            ]
          },
          "metadata": {},
          "execution_count": 92
        }
      ]
    },
    {
      "cell_type": "code",
      "source": [
        "list_example = []"
      ],
      "metadata": {
        "id": "6HDWxQNqCRfB"
      },
      "execution_count": 93,
      "outputs": []
    },
    {
      "cell_type": "code",
      "source": [
        "type(list_example)"
      ],
      "metadata": {
        "colab": {
          "base_uri": "https://localhost:8080/"
        },
        "id": "RH3Z_GEdCU_7",
        "outputId": "782feea8-4a1c-48fb-8764-37d0d4803a28"
      },
      "execution_count": 94,
      "outputs": [
        {
          "output_type": "execute_result",
          "data": {
            "text/plain": [
              "list"
            ]
          },
          "metadata": {},
          "execution_count": 94
        }
      ]
    },
    {
      "cell_type": "code",
      "source": [
        "lst = list()"
      ],
      "metadata": {
        "id": "hkTIYLhjCgFc"
      },
      "execution_count": 95,
      "outputs": []
    },
    {
      "cell_type": "code",
      "source": [
        "type(lst)"
      ],
      "metadata": {
        "colab": {
          "base_uri": "https://localhost:8080/"
        },
        "id": "tBjLgiizCh3W",
        "outputId": "4c9cdb43-b610-448a-e100-66920536db99"
      },
      "execution_count": 96,
      "outputs": [
        {
          "output_type": "execute_result",
          "data": {
            "text/plain": [
              "list"
            ]
          },
          "metadata": {},
          "execution_count": 96
        }
      ]
    },
    {
      "cell_type": "code",
      "source": [
        "lst = ['Mathematics','Chemistry',100,200,300]"
      ],
      "metadata": {
        "id": "I9r4DevCCjoP"
      },
      "execution_count": 97,
      "outputs": []
    },
    {
      "cell_type": "code",
      "source": [
        "len(lst)"
      ],
      "metadata": {
        "colab": {
          "base_uri": "https://localhost:8080/"
        },
        "id": "iUXh3JVjCuwd",
        "outputId": "63cc6b20-484e-438a-a80e-baaf7264a455"
      },
      "execution_count": 98,
      "outputs": [
        {
          "output_type": "execute_result",
          "data": {
            "text/plain": [
              "5"
            ]
          },
          "metadata": {},
          "execution_count": 98
        }
      ]
    },
    {
      "cell_type": "code",
      "source": [
        "type(lst)"
      ],
      "metadata": {
        "colab": {
          "base_uri": "https://localhost:8080/"
        },
        "id": "XWtz00XYCv_K",
        "outputId": "211053fd-959e-42a7-c9bc-265cff56d08b"
      },
      "execution_count": 99,
      "outputs": [
        {
          "output_type": "execute_result",
          "data": {
            "text/plain": [
              "list"
            ]
          },
          "metadata": {},
          "execution_count": 99
        }
      ]
    },
    {
      "cell_type": "markdown",
      "source": [
        "**Append**"
      ],
      "metadata": {
        "id": "58LQ3We0CzGf"
      }
    },
    {
      "cell_type": "code",
      "source": [
        "#.append is used to add elements in the list\n",
        "lst.append(\"Ekram\")"
      ],
      "metadata": {
        "id": "GB5lHa8ECyCv"
      },
      "execution_count": 100,
      "outputs": []
    },
    {
      "cell_type": "code",
      "source": [
        "lst.append(['Hossen','Shethil'])"
      ],
      "metadata": {
        "id": "R1dLZkbAC5CC"
      },
      "execution_count": 101,
      "outputs": []
    },
    {
      "cell_type": "code",
      "source": [
        "lst"
      ],
      "metadata": {
        "colab": {
          "base_uri": "https://localhost:8080/"
        },
        "id": "9-lfOAm6DA5I",
        "outputId": "ea243d36-0281-47ad-90c5-2f111bcf42c8"
      },
      "execution_count": 102,
      "outputs": [
        {
          "output_type": "execute_result",
          "data": {
            "text/plain": [
              "['Mathematics', 'Chemistry', 100, 200, 300, 'Ekram', ['Hossen', 'Shethil']]"
            ]
          },
          "metadata": {},
          "execution_count": 102
        }
      ]
    },
    {
      "cell_type": "code",
      "source": [
        "##Indexing in List\n",
        "lst[6]"
      ],
      "metadata": {
        "colab": {
          "base_uri": "https://localhost:8080/"
        },
        "id": "mR7HXJRmDCH9",
        "outputId": "5ad33f32-8002-4813-c62e-489d35f5151d"
      },
      "execution_count": 103,
      "outputs": [
        {
          "output_type": "execute_result",
          "data": {
            "text/plain": [
              "['Hossen', 'Shethil']"
            ]
          },
          "metadata": {},
          "execution_count": 103
        }
      ]
    },
    {
      "cell_type": "code",
      "source": [
        "lst[1:6]"
      ],
      "metadata": {
        "colab": {
          "base_uri": "https://localhost:8080/"
        },
        "id": "YH02c1lpDFRz",
        "outputId": "dfaa19ba-257a-45d1-d864-e7c1ba86e068"
      },
      "execution_count": 104,
      "outputs": [
        {
          "output_type": "execute_result",
          "data": {
            "text/plain": [
              "['Chemistry', 100, 200, 300, 'Ekram']"
            ]
          },
          "metadata": {},
          "execution_count": 104
        }
      ]
    },
    {
      "cell_type": "markdown",
      "source": [
        "**Insert**"
      ],
      "metadata": {
        "id": "FIZ6jWqdDHPK"
      }
    },
    {
      "cell_type": "code",
      "source": [
        "## insert in a specific order\n",
        "\n",
        "lst.insert(2,\"Salman\")"
      ],
      "metadata": {
        "id": "74YaJ1xrDGlF"
      },
      "execution_count": 105,
      "outputs": []
    },
    {
      "cell_type": "code",
      "source": [
        "lst"
      ],
      "metadata": {
        "colab": {
          "base_uri": "https://localhost:8080/"
        },
        "id": "PKIPnhfxDPww",
        "outputId": "1d5eea5e-2f41-4e70-dc10-719b0958454d"
      },
      "execution_count": 106,
      "outputs": [
        {
          "output_type": "execute_result",
          "data": {
            "text/plain": [
              "['Mathematics',\n",
              " 'Chemistry',\n",
              " 'Salman',\n",
              " 100,\n",
              " 200,\n",
              " 300,\n",
              " 'Ekram',\n",
              " ['Hossen', 'Shethil']]"
            ]
          },
          "metadata": {},
          "execution_count": 106
        }
      ]
    },
    {
      "cell_type": "code",
      "source": [
        "lst = [1,2,3]"
      ],
      "metadata": {
        "id": "B-kKLEo_DQ8e"
      },
      "execution_count": 107,
      "outputs": []
    },
    {
      "cell_type": "code",
      "source": [
        "lst.append([4,5])"
      ],
      "metadata": {
        "id": "CIgamAxlDUPI"
      },
      "execution_count": 108,
      "outputs": []
    },
    {
      "cell_type": "code",
      "source": [
        "lst"
      ],
      "metadata": {
        "colab": {
          "base_uri": "https://localhost:8080/"
        },
        "id": "2Ud3xtvKDXQz",
        "outputId": "75270ac8-1a25-44f9-9bc0-58552cd597f9"
      },
      "execution_count": 109,
      "outputs": [
        {
          "output_type": "execute_result",
          "data": {
            "text/plain": [
              "[1, 2, 3, [4, 5]]"
            ]
          },
          "metadata": {},
          "execution_count": 109
        }
      ]
    },
    {
      "cell_type": "markdown",
      "source": [
        "**Extend Method**"
      ],
      "metadata": {
        "id": "hGcDhu8RDZIk"
      }
    },
    {
      "cell_type": "code",
      "source": [
        "lst=[1,2,3,4,5,6]"
      ],
      "metadata": {
        "id": "fVXaP4vhDYUn"
      },
      "execution_count": 110,
      "outputs": []
    },
    {
      "cell_type": "code",
      "source": [
        "lst.extend([8,9])"
      ],
      "metadata": {
        "id": "dZYcodRzDdT3"
      },
      "execution_count": 111,
      "outputs": []
    },
    {
      "cell_type": "code",
      "source": [
        "lst"
      ],
      "metadata": {
        "colab": {
          "base_uri": "https://localhost:8080/"
        },
        "id": "zKyFWX2eDe0V",
        "outputId": "34a79189-6624-4571-d90a-c7eb2d47828f"
      },
      "execution_count": 112,
      "outputs": [
        {
          "output_type": "execute_result",
          "data": {
            "text/plain": [
              "[1, 2, 3, 4, 5, 6, 8, 9]"
            ]
          },
          "metadata": {},
          "execution_count": 112
        }
      ]
    },
    {
      "cell_type": "markdown",
      "source": [
        "**Various Operations that we can perform in List**"
      ],
      "metadata": {
        "id": "XRbM-GX0DiW1"
      }
    },
    {
      "cell_type": "code",
      "source": [
        "lst=[1,2,3,4,5]"
      ],
      "metadata": {
        "id": "fNEaCEN3Dgh_"
      },
      "execution_count": 113,
      "outputs": []
    },
    {
      "cell_type": "code",
      "source": [
        "sum(lst)"
      ],
      "metadata": {
        "colab": {
          "base_uri": "https://localhost:8080/"
        },
        "id": "XwZ5hTHzDmKY",
        "outputId": "f56ca7ef-2e29-4d40-97f7-50dec4a8673a"
      },
      "execution_count": 114,
      "outputs": [
        {
          "output_type": "execute_result",
          "data": {
            "text/plain": [
              "15"
            ]
          },
          "metadata": {},
          "execution_count": 114
        }
      ]
    },
    {
      "cell_type": "code",
      "source": [
        "lst*5"
      ],
      "metadata": {
        "colab": {
          "base_uri": "https://localhost:8080/"
        },
        "id": "qfKqj1eHDngj",
        "outputId": "39ebd6ea-da32-4afc-e371-76a2b3671e31"
      },
      "execution_count": 115,
      "outputs": [
        {
          "output_type": "execute_result",
          "data": {
            "text/plain": [
              "[1, 2, 3, 4, 5, 1, 2, 3, 4, 5, 1, 2, 3, 4, 5, 1, 2, 3, 4, 5, 1, 2, 3, 4, 5]"
            ]
          },
          "metadata": {},
          "execution_count": 115
        }
      ]
    },
    {
      "cell_type": "markdown",
      "source": [
        "**Pop()Method**"
      ],
      "metadata": {
        "id": "f5Tzrb5XDums"
      }
    },
    {
      "cell_type": "code",
      "source": [
        "lst.pop()"
      ],
      "metadata": {
        "colab": {
          "base_uri": "https://localhost:8080/"
        },
        "id": "PLrijWQVDr04",
        "outputId": "a9fe3ec6-caae-4e8e-98f8-ec3179785c4d"
      },
      "execution_count": 116,
      "outputs": [
        {
          "output_type": "execute_result",
          "data": {
            "text/plain": [
              "5"
            ]
          },
          "metadata": {},
          "execution_count": 116
        }
      ]
    },
    {
      "cell_type": "code",
      "source": [
        "lst"
      ],
      "metadata": {
        "colab": {
          "base_uri": "https://localhost:8080/"
        },
        "id": "2-RXpMozDy6h",
        "outputId": "ce7d5049-aca6-4c17-8b84-48ae203a206c"
      },
      "execution_count": 117,
      "outputs": [
        {
          "output_type": "execute_result",
          "data": {
            "text/plain": [
              "[1, 2, 3, 4]"
            ]
          },
          "metadata": {},
          "execution_count": 117
        }
      ]
    },
    {
      "cell_type": "code",
      "source": [
        "lst.pop(0)"
      ],
      "metadata": {
        "colab": {
          "base_uri": "https://localhost:8080/"
        },
        "id": "qJf_ykqJDz25",
        "outputId": "25ea61be-6607-4926-f490-8d8df6830f34"
      },
      "execution_count": 118,
      "outputs": [
        {
          "output_type": "execute_result",
          "data": {
            "text/plain": [
              "1"
            ]
          },
          "metadata": {},
          "execution_count": 118
        }
      ]
    },
    {
      "cell_type": "code",
      "source": [
        "lst"
      ],
      "metadata": {
        "colab": {
          "base_uri": "https://localhost:8080/"
        },
        "id": "UWxBlB9DD33n",
        "outputId": "878393b1-917c-458a-a4bc-47c315a03bc1"
      },
      "execution_count": 119,
      "outputs": [
        {
          "output_type": "execute_result",
          "data": {
            "text/plain": [
              "[2, 3, 4]"
            ]
          },
          "metadata": {},
          "execution_count": 119
        }
      ]
    },
    {
      "cell_type": "markdown",
      "source": [
        "**count():Calculates total occurrence of given element of List**"
      ],
      "metadata": {
        "id": "enMlZAfHD6KI"
      }
    },
    {
      "cell_type": "code",
      "source": [
        "lst=[1,1,2,3,4,5]\n",
        "lst.count(1)"
      ],
      "metadata": {
        "colab": {
          "base_uri": "https://localhost:8080/"
        },
        "id": "NPG3aUibD4eS",
        "outputId": "7b152b5c-c0af-4de3-b778-2dd2214d752b"
      },
      "execution_count": 120,
      "outputs": [
        {
          "output_type": "execute_result",
          "data": {
            "text/plain": [
              "2"
            ]
          },
          "metadata": {},
          "execution_count": 120
        }
      ]
    },
    {
      "cell_type": "code",
      "source": [
        "#length:Calculates total length of List\n",
        "len(lst)"
      ],
      "metadata": {
        "colab": {
          "base_uri": "https://localhost:8080/"
        },
        "id": "0V4T7EgHD-G9",
        "outputId": "65dc4b4e-1f11-4248-a829-e4be3be33371"
      },
      "execution_count": 121,
      "outputs": [
        {
          "output_type": "execute_result",
          "data": {
            "text/plain": [
              "6"
            ]
          },
          "metadata": {},
          "execution_count": 121
        }
      ]
    },
    {
      "cell_type": "code",
      "source": [
        "# index(): Returns the index of first occurrence. Start and End index are not necessary parameters\n",
        "lst.index(1,1,4)"
      ],
      "metadata": {
        "colab": {
          "base_uri": "https://localhost:8080/"
        },
        "id": "NpJXdmhMEA62",
        "outputId": "dfce886d-fce7-4ad8-fe8e-112289b87324"
      },
      "execution_count": 122,
      "outputs": [
        {
          "output_type": "execute_result",
          "data": {
            "text/plain": [
              "1"
            ]
          },
          "metadata": {},
          "execution_count": 122
        }
      ]
    },
    {
      "cell_type": "code",
      "source": [
        "##Min and Max\n",
        "min(lst)"
      ],
      "metadata": {
        "colab": {
          "base_uri": "https://localhost:8080/"
        },
        "id": "eNX5gP_LEB6s",
        "outputId": "e0d5954b-9338-4906-a9f1-ec54cf591185"
      },
      "execution_count": 123,
      "outputs": [
        {
          "output_type": "execute_result",
          "data": {
            "text/plain": [
              "1"
            ]
          },
          "metadata": {},
          "execution_count": 123
        }
      ]
    },
    {
      "cell_type": "code",
      "source": [
        "max(lst)"
      ],
      "metadata": {
        "colab": {
          "base_uri": "https://localhost:8080/"
        },
        "id": "kJLAbrcdEDUa",
        "outputId": "f8411676-a725-4456-9a16-a574bdd3ab4b"
      },
      "execution_count": 124,
      "outputs": [
        {
          "output_type": "execute_result",
          "data": {
            "text/plain": [
              "5"
            ]
          },
          "metadata": {},
          "execution_count": 124
        }
      ]
    },
    {
      "cell_type": "markdown",
      "source": [
        "**Set**\n",
        "\n",
        "A Set is an unordered collection data type that is iterable, mutable, and has no duplicate elements. Python's set class represents the mathematical notion of a set.This is based on a data structure known as a hash table\n"
      ],
      "metadata": {
        "id": "aQaGjlaREFvF"
      }
    },
    {
      "cell_type": "code",
      "source": [
        "## Defining an empy set\n",
        "\n",
        "set_var= set()\n",
        "print(set_var)\n",
        "print(type(set_var))"
      ],
      "metadata": {
        "colab": {
          "base_uri": "https://localhost:8080/"
        },
        "id": "sJ4Rx8BIEEeA",
        "outputId": "c05daeac-ee33-4ea8-a61d-7a45e74c10a8"
      },
      "execution_count": 125,
      "outputs": [
        {
          "output_type": "stream",
          "name": "stdout",
          "text": [
            "set()\n",
            "<class 'set'>\n"
          ]
        }
      ]
    },
    {
      "cell_type": "code",
      "source": [
        "set_var={1,2,3,4,3}"
      ],
      "metadata": {
        "id": "-Zo-PkKXEKbS"
      },
      "execution_count": 126,
      "outputs": []
    },
    {
      "cell_type": "code",
      "source": [
        "set_var"
      ],
      "metadata": {
        "colab": {
          "base_uri": "https://localhost:8080/"
        },
        "id": "yzqjAzsbEW_3",
        "outputId": "55223a4d-36d1-46fe-8997-b4eb923e5290"
      },
      "execution_count": 127,
      "outputs": [
        {
          "output_type": "execute_result",
          "data": {
            "text/plain": [
              "{1, 2, 3, 4}"
            ]
          },
          "metadata": {},
          "execution_count": 127
        }
      ]
    },
    {
      "cell_type": "code",
      "source": [
        "set_var={\"Avengers\",\"IronMan\",'Hitman'}\n",
        "print(set_var)\n",
        "type(set_var)"
      ],
      "metadata": {
        "colab": {
          "base_uri": "https://localhost:8080/"
        },
        "id": "IPCUG7e9EMWG",
        "outputId": "5aa5bc20-9fb6-49bf-bd1e-0e4cbef93257"
      },
      "execution_count": 128,
      "outputs": [
        {
          "output_type": "stream",
          "name": "stdout",
          "text": [
            "{'IronMan', 'Avengers', 'Hitman'}\n"
          ]
        },
        {
          "output_type": "execute_result",
          "data": {
            "text/plain": [
              "set"
            ]
          },
          "metadata": {},
          "execution_count": 128
        }
      ]
    },
    {
      "cell_type": "code",
      "source": [
        "## Inbuilt function in sets\n",
        "\n",
        "set_var.add(\"Hulk\")"
      ],
      "metadata": {
        "id": "BrcHdlxBETF6"
      },
      "execution_count": 129,
      "outputs": []
    },
    {
      "cell_type": "code",
      "source": [
        "print(set_var)"
      ],
      "metadata": {
        "colab": {
          "base_uri": "https://localhost:8080/"
        },
        "id": "uvB1tBSvEde8",
        "outputId": "c1115fc3-2720-4873-95db-649a85bcdf20"
      },
      "execution_count": 130,
      "outputs": [
        {
          "output_type": "stream",
          "name": "stdout",
          "text": [
            "{'IronMan', 'Hulk', 'Avengers', 'Hitman'}\n"
          ]
        }
      ]
    },
    {
      "cell_type": "code",
      "source": [
        "set1={\"Avengers\",\"IronMan\",'Hitman'}\n",
        "set2={\"Avengers\",\"IronMan\",'Hitman','Hulk2'}"
      ],
      "metadata": {
        "id": "yKBLNS-XEhd2"
      },
      "execution_count": 131,
      "outputs": []
    },
    {
      "cell_type": "code",
      "source": [
        "set2.intersection_update(set1)"
      ],
      "metadata": {
        "id": "2F-Qn17OEmBJ"
      },
      "execution_count": 132,
      "outputs": []
    },
    {
      "cell_type": "code",
      "source": [
        "set2"
      ],
      "metadata": {
        "colab": {
          "base_uri": "https://localhost:8080/"
        },
        "id": "CV3i6D4sEq4h",
        "outputId": "d919b1dc-ca53-402b-ffba-a14a490ac401"
      },
      "execution_count": 133,
      "outputs": [
        {
          "output_type": "execute_result",
          "data": {
            "text/plain": [
              "{'Avengers', 'Hitman', 'IronMan'}"
            ]
          },
          "metadata": {},
          "execution_count": 133
        }
      ]
    },
    {
      "cell_type": "code",
      "source": [
        "##Difference \n",
        "set2.difference(set1)"
      ],
      "metadata": {
        "colab": {
          "base_uri": "https://localhost:8080/"
        },
        "id": "SHyRLpxtEspB",
        "outputId": "92bebff9-8fdf-4ab1-9597-554440e74219"
      },
      "execution_count": 134,
      "outputs": [
        {
          "output_type": "execute_result",
          "data": {
            "text/plain": [
              "set()"
            ]
          },
          "metadata": {},
          "execution_count": 134
        }
      ]
    },
    {
      "cell_type": "code",
      "source": [
        "set2"
      ],
      "metadata": {
        "colab": {
          "base_uri": "https://localhost:8080/"
        },
        "id": "kP9B8rFhE4X0",
        "outputId": "606be827-3724-46c6-d798-3dc565bf4674"
      },
      "execution_count": 135,
      "outputs": [
        {
          "output_type": "execute_result",
          "data": {
            "text/plain": [
              "{'Avengers', 'Hitman', 'IronMan'}"
            ]
          },
          "metadata": {},
          "execution_count": 135
        }
      ]
    },
    {
      "cell_type": "code",
      "source": [
        "## Difference update\n",
        "\n",
        "set2.difference_update(set1)"
      ],
      "metadata": {
        "id": "gmIUkNQYE_Z7"
      },
      "execution_count": 136,
      "outputs": []
    },
    {
      "cell_type": "code",
      "source": [
        "print(set2)"
      ],
      "metadata": {
        "colab": {
          "base_uri": "https://localhost:8080/"
        },
        "id": "HyWf49a9FBop",
        "outputId": "439b2d7d-f1b6-4880-8a75-afb0feb6a350"
      },
      "execution_count": 137,
      "outputs": [
        {
          "output_type": "stream",
          "name": "stdout",
          "text": [
            "set()\n"
          ]
        }
      ]
    },
    {
      "cell_type": "markdown",
      "source": [
        "**Dictionary**\n",
        "\n",
        "A dictionary is a collection which is unordered, changeable and indexed. In Python dictionaries are written with curly brackets, and they have keys and values."
      ],
      "metadata": {
        "id": "DpAIPpbeFN2P"
      }
    },
    {
      "cell_type": "code",
      "source": [
        "dic={}"
      ],
      "metadata": {
        "id": "zUVM0nIhFEmQ"
      },
      "execution_count": 138,
      "outputs": []
    },
    {
      "cell_type": "code",
      "source": [
        "type(dic)"
      ],
      "metadata": {
        "colab": {
          "base_uri": "https://localhost:8080/"
        },
        "id": "dXuEmeKmFSyY",
        "outputId": "6d2e23bb-a2ed-4654-fdde-bfdde76d7ecc"
      },
      "execution_count": 139,
      "outputs": [
        {
          "output_type": "execute_result",
          "data": {
            "text/plain": [
              "dict"
            ]
          },
          "metadata": {},
          "execution_count": 139
        }
      ]
    },
    {
      "cell_type": "code",
      "source": [
        "type(dict())"
      ],
      "metadata": {
        "colab": {
          "base_uri": "https://localhost:8080/"
        },
        "id": "n1oRlHAqFUZB",
        "outputId": "eef5ea21-a85a-48f1-d60e-b60306d5d3cd"
      },
      "execution_count": 140,
      "outputs": [
        {
          "output_type": "execute_result",
          "data": {
            "text/plain": [
              "dict"
            ]
          },
          "metadata": {},
          "execution_count": 140
        }
      ]
    },
    {
      "cell_type": "code",
      "source": [
        "set_ex = {1,2,3,4,5}"
      ],
      "metadata": {
        "id": "tqLOWq8uFW9n"
      },
      "execution_count": 141,
      "outputs": []
    },
    {
      "cell_type": "code",
      "source": [
        "type(set_ex)"
      ],
      "metadata": {
        "colab": {
          "base_uri": "https://localhost:8080/"
        },
        "id": "qF9aHvr_FbEd",
        "outputId": "1f6c1179-1625-4217-93d8-0a652a22a03e"
      },
      "execution_count": 142,
      "outputs": [
        {
          "output_type": "execute_result",
          "data": {
            "text/plain": [
              "set"
            ]
          },
          "metadata": {},
          "execution_count": 142
        }
      ]
    },
    {
      "cell_type": "code",
      "source": [
        "## Let create a dictionary\n",
        "\n",
        "my_dict={\"Car1\": \"Audi\", \"Car2\":\"BMW\",\"Car3\":\"Mercidies Benz\"}"
      ],
      "metadata": {
        "id": "zHNFLa5tFeeV"
      },
      "execution_count": 143,
      "outputs": []
    },
    {
      "cell_type": "code",
      "source": [
        "type(my_dict)"
      ],
      "metadata": {
        "colab": {
          "base_uri": "https://localhost:8080/"
        },
        "id": "UxjKBD5NFgxF",
        "outputId": "ae8e8716-ce8d-4a50-8448-9874fb41ba96"
      },
      "execution_count": 144,
      "outputs": [
        {
          "output_type": "execute_result",
          "data": {
            "text/plain": [
              "dict"
            ]
          },
          "metadata": {},
          "execution_count": 144
        }
      ]
    },
    {
      "cell_type": "code",
      "source": [
        "##Access the item values based on keys\n",
        "\n",
        "my_dict['Car1']"
      ],
      "metadata": {
        "colab": {
          "base_uri": "https://localhost:8080/",
          "height": 35
        },
        "id": "t7-l_Ku5FjJk",
        "outputId": "01d67e65-cad8-4b1e-c852-f5cb7f0feeb2"
      },
      "execution_count": 145,
      "outputs": [
        {
          "output_type": "execute_result",
          "data": {
            "application/vnd.google.colaboratory.intrinsic+json": {
              "type": "string"
            },
            "text/plain": [
              "'Audi'"
            ]
          },
          "metadata": {},
          "execution_count": 145
        }
      ]
    },
    {
      "cell_type": "code",
      "source": [
        "# We can even loop throught the dictionaried keys\n",
        "\n",
        "for x in my_dict:\n",
        "  print(x)"
      ],
      "metadata": {
        "colab": {
          "base_uri": "https://localhost:8080/"
        },
        "id": "N_HFwU0oFkgT",
        "outputId": "a47db6cf-003e-446d-fc95-653dd97dbf38"
      },
      "execution_count": 146,
      "outputs": [
        {
          "output_type": "stream",
          "name": "stdout",
          "text": [
            "Car1\n",
            "Car2\n",
            "Car3\n"
          ]
        }
      ]
    },
    {
      "cell_type": "code",
      "source": [
        "# We can even loop throught the dictionaried keys and values\n",
        "\n",
        "for x in my_dict.values():\n",
        "  print(x)"
      ],
      "metadata": {
        "colab": {
          "base_uri": "https://localhost:8080/"
        },
        "id": "HUo-XBn2Fx1z",
        "outputId": "df8ba4ae-1866-4a1b-f7ef-22219bfa5539"
      },
      "execution_count": 147,
      "outputs": [
        {
          "output_type": "stream",
          "name": "stdout",
          "text": [
            "Audi\n",
            "BMW\n",
            "Mercidies Benz\n"
          ]
        }
      ]
    },
    {
      "cell_type": "code",
      "source": [
        "# We can also check both keys and values\n",
        "for x in my_dict.items():\n",
        "    print(x)"
      ],
      "metadata": {
        "colab": {
          "base_uri": "https://localhost:8080/"
        },
        "id": "ym4FbmVgF9Ok",
        "outputId": "264f5633-1571-4c6c-be1c-141cf052d2e7"
      },
      "execution_count": 148,
      "outputs": [
        {
          "output_type": "stream",
          "name": "stdout",
          "text": [
            "('Car1', 'Audi')\n",
            "('Car2', 'BMW')\n",
            "('Car3', 'Mercidies Benz')\n"
          ]
        }
      ]
    },
    {
      "cell_type": "code",
      "source": [
        "## Adding items in Dictionaries\n",
        "\n",
        "my_dict['car4']='Audi 2.0'"
      ],
      "metadata": {
        "id": "Dovo_uqRF_T8"
      },
      "execution_count": 149,
      "outputs": []
    },
    {
      "cell_type": "code",
      "source": [
        "my_dict"
      ],
      "metadata": {
        "colab": {
          "base_uri": "https://localhost:8080/"
        },
        "id": "apskcUSyGB1L",
        "outputId": "68c850b6-fb49-4364-81a4-1b9ec267db93"
      },
      "execution_count": 150,
      "outputs": [
        {
          "output_type": "execute_result",
          "data": {
            "text/plain": [
              "{'Car1': 'Audi', 'Car2': 'BMW', 'Car3': 'Mercidies Benz', 'car4': 'Audi 2.0'}"
            ]
          },
          "metadata": {},
          "execution_count": 150
        }
      ]
    },
    {
      "cell_type": "code",
      "source": [
        "my_dict['Car1']='MAruti'"
      ],
      "metadata": {
        "id": "OIHAkqtSGDLT"
      },
      "execution_count": 151,
      "outputs": []
    },
    {
      "cell_type": "code",
      "source": [
        "my_dict"
      ],
      "metadata": {
        "colab": {
          "base_uri": "https://localhost:8080/"
        },
        "id": "Db28z_1cGEP-",
        "outputId": "3760e854-8774-4785-92cc-c8849564452e"
      },
      "execution_count": 152,
      "outputs": [
        {
          "output_type": "execute_result",
          "data": {
            "text/plain": [
              "{'Car1': 'MAruti', 'Car2': 'BMW', 'Car3': 'Mercidies Benz', 'car4': 'Audi 2.0'}"
            ]
          },
          "metadata": {},
          "execution_count": 152
        }
      ]
    },
    {
      "cell_type": "markdown",
      "source": [
        "**Nested Dictionary**"
      ],
      "metadata": {
        "id": "0jA5m9b3GGyn"
      }
    },
    {
      "cell_type": "code",
      "source": [
        "car1_model={'Mercedes':1960}\n",
        "car2_model={'Audi':1970}\n",
        "car3_model={'Ambassador':1980}\n",
        "\n",
        "car_type={'car1':car1_model,'car2':car2_model,'car3':car3_model}"
      ],
      "metadata": {
        "id": "TgKQcfh2GFbT"
      },
      "execution_count": 153,
      "outputs": []
    },
    {
      "cell_type": "code",
      "source": [
        "print(car_type)"
      ],
      "metadata": {
        "colab": {
          "base_uri": "https://localhost:8080/"
        },
        "id": "vxt-fyXKGXy9",
        "outputId": "d1364e38-bd65-4dc6-80f5-1f23814473b2"
      },
      "execution_count": 154,
      "outputs": [
        {
          "output_type": "stream",
          "name": "stdout",
          "text": [
            "{'car1': {'Mercedes': 1960}, 'car2': {'Audi': 1970}, 'car3': {'Ambassador': 1980}}\n"
          ]
        }
      ]
    },
    {
      "cell_type": "code",
      "source": [
        "## Accessing the items in the dictionary\n",
        "\n",
        "print(car_type['car1'])"
      ],
      "metadata": {
        "colab": {
          "base_uri": "https://localhost:8080/"
        },
        "id": "LLbFNcJHGZ_b",
        "outputId": "968f859c-46a5-4341-ac76-eb1961abc65e"
      },
      "execution_count": 155,
      "outputs": [
        {
          "output_type": "stream",
          "name": "stdout",
          "text": [
            "{'Mercedes': 1960}\n"
          ]
        }
      ]
    },
    {
      "cell_type": "code",
      "source": [
        "print(car_type['car1']['Mercedes'])"
      ],
      "metadata": {
        "colab": {
          "base_uri": "https://localhost:8080/"
        },
        "id": "ETz2msDYGeLx",
        "outputId": "704814e1-e062-42b1-e711-286e8d97ddda"
      },
      "execution_count": 156,
      "outputs": [
        {
          "output_type": "stream",
          "name": "stdout",
          "text": [
            "1960\n"
          ]
        }
      ]
    },
    {
      "cell_type": "markdown",
      "source": [
        "**Tupes**"
      ],
      "metadata": {
        "id": "Eklo3Ts1GhUh"
      }
    },
    {
      "cell_type": "code",
      "source": [
        "## create an empty Tuples\n",
        "\n",
        "my_tuple=tuple()"
      ],
      "metadata": {
        "id": "osDcc77eGf7z"
      },
      "execution_count": 157,
      "outputs": []
    },
    {
      "cell_type": "code",
      "source": [
        "type(my_tuple)"
      ],
      "metadata": {
        "colab": {
          "base_uri": "https://localhost:8080/"
        },
        "id": "kpgm6otgGkm8",
        "outputId": "035b38af-b7fc-472b-9fba-27637e458fd9"
      },
      "execution_count": 158,
      "outputs": [
        {
          "output_type": "execute_result",
          "data": {
            "text/plain": [
              "tuple"
            ]
          },
          "metadata": {},
          "execution_count": 158
        }
      ]
    },
    {
      "cell_type": "code",
      "source": [
        "my_tuple=()"
      ],
      "metadata": {
        "id": "NhIccfz-Glk1"
      },
      "execution_count": 159,
      "outputs": []
    },
    {
      "cell_type": "code",
      "source": [
        "type(my_tuple)"
      ],
      "metadata": {
        "colab": {
          "base_uri": "https://localhost:8080/"
        },
        "id": "D0BhmSgYGmxr",
        "outputId": "d70a3a60-5be4-458f-dda5-7920c3388eaa"
      },
      "execution_count": 160,
      "outputs": [
        {
          "output_type": "execute_result",
          "data": {
            "text/plain": [
              "tuple"
            ]
          },
          "metadata": {},
          "execution_count": 160
        }
      ]
    },
    {
      "cell_type": "code",
      "source": [
        "my_tuple=(\"Krish\",\"Ankur\",\"John\")"
      ],
      "metadata": {
        "id": "LNu6Xm0GGn_E"
      },
      "execution_count": 167,
      "outputs": []
    },
    {
      "cell_type": "code",
      "source": [
        "my_tuple=('Hello','World')"
      ],
      "metadata": {
        "id": "1bsDVa-rGso9"
      },
      "execution_count": 162,
      "outputs": []
    },
    {
      "cell_type": "code",
      "source": [
        "print(type(my_tuple))\n",
        "print(my_tuple)"
      ],
      "metadata": {
        "colab": {
          "base_uri": "https://localhost:8080/"
        },
        "id": "TIS4X0vAGtvC",
        "outputId": "4b23eedc-9446-4152-a6c9-b0b13f9a3eff"
      },
      "execution_count": 163,
      "outputs": [
        {
          "output_type": "stream",
          "name": "stdout",
          "text": [
            "<class 'tuple'>\n",
            "('Hello', 'World')\n"
          ]
        }
      ]
    },
    {
      "cell_type": "code",
      "source": [
        "type(my_tuple)"
      ],
      "metadata": {
        "colab": {
          "base_uri": "https://localhost:8080/"
        },
        "id": "v7l6yLdZGu93",
        "outputId": "ad3bf731-eb93-4ad5-f30c-f4c685cca285"
      },
      "execution_count": 164,
      "outputs": [
        {
          "output_type": "execute_result",
          "data": {
            "text/plain": [
              "tuple"
            ]
          },
          "metadata": {},
          "execution_count": 164
        }
      ]
    },
    {
      "cell_type": "code",
      "source": [
        "## Inbuilt function\n",
        "my_tuple.count('Krish')"
      ],
      "metadata": {
        "colab": {
          "base_uri": "https://localhost:8080/"
        },
        "id": "ujP1askvGxz_",
        "outputId": "07139b43-7a42-4fb0-bbd6-0628b1f029cb"
      },
      "execution_count": 168,
      "outputs": [
        {
          "output_type": "execute_result",
          "data": {
            "text/plain": [
              "1"
            ]
          },
          "metadata": {},
          "execution_count": 168
        }
      ]
    },
    {
      "cell_type": "code",
      "source": [
        "my_tuple.index('Ankur')"
      ],
      "metadata": {
        "colab": {
          "base_uri": "https://localhost:8080/"
        },
        "id": "8bgineppGy5N",
        "outputId": "3d3da31e-3e1e-4d27-a231-68e3abe058a0"
      },
      "execution_count": 169,
      "outputs": [
        {
          "output_type": "execute_result",
          "data": {
            "text/plain": [
              "1"
            ]
          },
          "metadata": {},
          "execution_count": 169
        }
      ]
    },
    {
      "cell_type": "code",
      "source": [
        ""
      ],
      "metadata": {
        "id": "gAEz8gWYG0Gy"
      },
      "execution_count": null,
      "outputs": []
    }
  ]
}